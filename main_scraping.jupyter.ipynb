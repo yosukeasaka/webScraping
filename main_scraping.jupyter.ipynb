{
 "cells": [
  {
   "cell_type": "markdown",
   "metadata": {},
   "source": [
    "# ロイターニュースのトップニュースをスクライピング"
   ]
  },
  {
   "cell_type": "markdown",
   "metadata": {},
   "source": [
    "スクライピングのテスト\n",
    "\n",
    "1. 必要なライブラリをインポート。最低でもRequestとBeautifulSoup\n",
    "2. Requesstを使って指定のサイトからHtmlをとってくる\n",
    "3. 取ってきたHtmlをBS4を使ってタグで呼び出せるようにする\n",
    "4. 欲しい情報のあるタグを探す\n",
    "5. 見つけた情報の表示とCVSファイルに保存"
   ]
  },
  {
   "cell_type": "code",
   "execution_count": 2,
   "metadata": {},
   "outputs": [],
   "source": [
    "# Requests: WebページのHTMLを取得\n",
    "import requests\n",
    "# Beautiful Soupのインポート\n",
    "from bs4 import BeautifulSoup\n",
    "# Pandas をインポート\n",
    "import pandas as pd "
   ]
  },
  {
   "cell_type": "code",
   "execution_count": 10,
   "metadata": {},
   "outputs": [],
   "source": [
    "# requestsを使ってURLからデータを取得\n",
    "reuters = requests.get(\"https://jp.reuters.com/news/topNews\").text\n",
    "# BeautifulSoupの初期化\n",
    "soup = BeautifulSoup(reuters, 'html.parser')\n",
    "# このページのh2タグをすべて抜き出す\n",
    "tags = soup.find_all(\"h2\")"
   ]
  },
  {
   "cell_type": "code",
   "execution_count": 21,
   "metadata": {},
   "outputs": [],
   "source": [
    "def check_news():\n",
    "    # タイトルコラムの作成\n",
    "    title_columns = [\"Name\", \"Post Date\", \"URL\"]\n",
    "    # 列（コラム）を作成\n",
    "    columns = pd.DataFrame(columns=title_columns)\n",
    "    # 結果が何も表示されない時のため\n",
    "    result = False  \n",
    "    # カウントするための変数の作成\n",
    "    count = 0\n",
    "\n",
    "    # インプットを作成\n",
    "    key_word = input(\"知りたいニュースのキーワードを入力してください : \")\n",
    "    \n",
    "    # ここからtags = soup.find_all(\"h2\")をループさせて出力\n",
    "    for tag in tags:\n",
    "        # a tagを探す\n",
    "        ahref = tag.find(\"a\")\n",
    "        # timestampのあるデータを見つける\n",
    "        time = tag.find(\"span\", {\"class\": \"timestamp\"})\n",
    "        # 記事名を取得\n",
    "        name = ahref.string  \n",
    "        url = \"https://jp.reuters.com\" + ahref.get(\"href\")  # URLを取得\n",
    "\n",
    "        # キーワードを含むものを探す\n",
    "        if str(key_word) in str(ahref.string):\n",
    "            # 時間の情報あるものとないもので分ける。これしないとエラーが出たので作りました。\n",
    "            if not time is None:\n",
    "                print(\"---------------------------------------\")\n",
    "                print(name)\n",
    "                print(\"投稿日時\",time.string)\n",
    "                print(url)\n",
    "                print(\"---------------------------------------\")\n",
    "                rows = pd.Series([name, time.string, url], title_columns)  # 行を作成\n",
    "                columns = columns.append(rows, title_columns)  # データフレームに行を追加\n",
    "                count += 1  # 入手できた投稿数をカウント\n",
    "            elif not ahref.string is None:\n",
    "                print(\"---------------------------------------\")\n",
    "                print(name)\n",
    "                print(url)\n",
    "                print(\"---------------------------------------\")\n",
    "                rows = pd.Series([name, None, url], title_columns)  # 行を作成\n",
    "                columns = columns.append(rows, title_columns)  # データフレームに行を追加\n",
    "                count += 1 # 入手できた投稿数をカウント\n",
    "            result = True\n",
    "\n",
    "    # 結果が何も表示されない時はこれを表示\n",
    "    if result is False:\n",
    "        print(\"トップニュースには『\" + key_word + \"』に関する記事はありませんでした。\")\n",
    "        \n",
    "        \n",
    "    return columns, count"
   ]
  },
  {
   "cell_type": "code",
   "execution_count": 24,
   "metadata": {},
   "outputs": [
    {
     "name": "stdout",
     "output_type": "stream",
     "text": [
      "知りたいニュースのキーワードを入力してください : 中国\n",
      "---------------------------------------\n",
      "コラム：中国怒らせた欧米高級ブランド、謝罪して不買のジレンマ\n",
      "投稿日時 8:56am JST\n",
      "https://jp.reuters.com/article/breakingviews-column-luxury-china-idJPKCN1V50II\n",
      "---------------------------------------\n",
      "---------------------------------------\n",
      "台湾、来年防衛費8.3％の大幅増額　中国の脅威に対抗\n",
      "投稿日時 8:34am JST\n",
      "https://jp.reuters.com/article/taiwan-china-defence-idJPKCN1V52LN\n",
      "---------------------------------------\n",
      "---------------------------------------\n",
      "トランプ氏　「中国はまず香港情勢に対処を」　貿易問題と絡める（字幕・15日）\n",
      "https://jp.reuters.com/video/2019/08/15/%E3%83%88%E3%83%A9%E3%83%B3%E3%83%97%E6%B0%8F%E3%80%80%E3%80%8C%E4%B8%AD%E5%9B%BD%E3%81%AF%E3%81%BE%E3%81%9A%E9%A6%99%E6%B8%AF%E6%83%85%E5%8B%A2%E3%81%AB%E5%AF%BE%E5%87%A6%E3%82%92%E3%80%8D%E3%80%80%E8%B2%BF%E6%98%93%E5%95%8F%E9%A1%8C%E3%81%A8%E7%B5%A1%E3%82%81%E3%82%8B%E5%AD%97%E5%B9%95%E3%83%BB15%E6%97%A5?videoId=587701793&videoChannel=201\n",
      "---------------------------------------\n",
      "---------------------------------------\n",
      "コラム：中国怒らせた欧米高級ブランド、謝罪して不買のジレンマ\n",
      "https://jp.reuters.com/article/breakingviews-column-luxury-china-idJPKCN1V50II\n",
      "---------------------------------------\n"
     ]
    }
   ],
   "source": [
    "columns, count = check_news()"
   ]
  },
  {
   "cell_type": "code",
   "execution_count": 25,
   "metadata": {},
   "outputs": [
    {
     "data": {
      "text/html": [
       "<div>\n",
       "<style scoped>\n",
       "    .dataframe tbody tr th:only-of-type {\n",
       "        vertical-align: middle;\n",
       "    }\n",
       "\n",
       "    .dataframe tbody tr th {\n",
       "        vertical-align: top;\n",
       "    }\n",
       "\n",
       "    .dataframe thead th {\n",
       "        text-align: right;\n",
       "    }\n",
       "</style>\n",
       "<table border=\"1\" class=\"dataframe\">\n",
       "  <thead>\n",
       "    <tr style=\"text-align: right;\">\n",
       "      <th></th>\n",
       "      <th>Name</th>\n",
       "      <th>Post Date</th>\n",
       "      <th>URL</th>\n",
       "    </tr>\n",
       "  </thead>\n",
       "  <tbody>\n",
       "    <tr>\n",
       "      <th>0</th>\n",
       "      <td>コラム：中国怒らせた欧米高級ブランド、謝罪して不買のジレンマ</td>\n",
       "      <td>8:56am JST</td>\n",
       "      <td>https://jp.reuters.com/article/breakingviews-c...</td>\n",
       "    </tr>\n",
       "    <tr>\n",
       "      <th>1</th>\n",
       "      <td>台湾、来年防衛費8.3％の大幅増額　中国の脅威に対抗</td>\n",
       "      <td>8:34am JST</td>\n",
       "      <td>https://jp.reuters.com/article/taiwan-china-de...</td>\n",
       "    </tr>\n",
       "    <tr>\n",
       "      <th>2</th>\n",
       "      <td>トランプ氏　「中国はまず香港情勢に対処を」　貿易問題と絡める（字幕・15日）</td>\n",
       "      <td>None</td>\n",
       "      <td>https://jp.reuters.com/video/2019/08/15/%E3%83...</td>\n",
       "    </tr>\n",
       "    <tr>\n",
       "      <th>3</th>\n",
       "      <td>コラム：中国怒らせた欧米高級ブランド、謝罪して不買のジレンマ</td>\n",
       "      <td>None</td>\n",
       "      <td>https://jp.reuters.com/article/breakingviews-c...</td>\n",
       "    </tr>\n",
       "  </tbody>\n",
       "</table>\n",
       "</div>"
      ],
      "text/plain": [
       "                                     Name   Post Date  \\\n",
       "0          コラム：中国怒らせた欧米高級ブランド、謝罪して不買のジレンマ  8:56am JST   \n",
       "1              台湾、来年防衛費8.3％の大幅増額　中国の脅威に対抗  8:34am JST   \n",
       "2  トランプ氏　「中国はまず香港情勢に対処を」　貿易問題と絡める（字幕・15日）        None   \n",
       "3          コラム：中国怒らせた欧米高級ブランド、謝罪して不買のジレンマ        None   \n",
       "\n",
       "                                                 URL  \n",
       "0  https://jp.reuters.com/article/breakingviews-c...  \n",
       "1  https://jp.reuters.com/article/taiwan-china-de...  \n",
       "2  https://jp.reuters.com/video/2019/08/15/%E3%83...  \n",
       "3  https://jp.reuters.com/article/breakingviews-c...  "
      ]
     },
     "execution_count": 25,
     "metadata": {},
     "output_type": "execute_result"
    }
   ],
   "source": [
    "#ここからは出た結果をCSVファイルとして保存するコード\n",
    "#fileの作成\n",
    "filename = \"result.csv\"\n",
    "#作成したファイルにcheck_newsで作ったcolumnsのファイルを入れる\n",
    "columns.to_csv(filename, encoding='utf-8-sig')\n",
    "# テストでカウント数分だけ出力\n",
    "columns.head(count) "
   ]
  },
  {
   "cell_type": "code",
   "execution_count": null,
   "metadata": {},
   "outputs": [],
   "source": []
  }
 ],
 "metadata": {
  "kernelspec": {
   "display_name": "Python 3",
   "language": "python",
   "name": "python3"
  },
  "language_info": {
   "codemirror_mode": {
    "name": "ipython",
    "version": 3
   },
   "file_extension": ".py",
   "mimetype": "text/x-python",
   "name": "python",
   "nbconvert_exporter": "python",
   "pygments_lexer": "ipython3",
   "version": "3.7.3"
  }
 },
 "nbformat": 4,
 "nbformat_minor": 2
}
